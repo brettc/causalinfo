{
 "cells": [
  {
   "cell_type": "markdown",
   "metadata": {},
   "source": [
    "# Complex Signals\n"
   ]
  },
  {
   "cell_type": "code",
   "execution_count": 1,
   "metadata": {
    "collapsed": false
   },
   "outputs": [],
   "source": [
    "from causalinfo import *\n",
    "from causalinfo.variables import JointDist, JointDistByState, UniformDist"
   ]
  },
  {
   "cell_type": "code",
   "execution_count": 2,
   "metadata": {
    "collapsed": false
   },
   "outputs": [],
   "source": [
    "# You only need this if you want to draw pretty pictures of the Networks\n",
    "from nxpd import draw, nxpdParams\n",
    "nxpdParams['show'] = 'ipynb'"
   ]
  },
  {
   "cell_type": "code",
   "execution_count": 3,
   "metadata": {
    "collapsed": true
   },
   "outputs": [],
   "source": [
    "def merge1(i1, i2, o1):\n",
    "    if i2:\n",
    "        # Perfect spec\n",
    "        o1[i1] = 1.0\n",
    "    else:\n",
    "        o1[i1/2] = 1.0\n",
    "\n",
    "def merge2(i1, i2, o1):\n",
    "    if i1:\n",
    "        # Perfect spec\n",
    "        o1[i2] = 1.0\n",
    "    else:\n",
    "        if i2 == 0:\n",
    "            o1[1] = 1.0\n",
    "        elif i2 == 1:\n",
    "            o1[0] = 1.0\n",
    "        else:\n",
    "            o1[i2] = 1.0\n"
   ]
  },
  {
   "cell_type": "code",
   "execution_count": 4,
   "metadata": {
    "collapsed": false
   },
   "outputs": [],
   "source": [
    "c1, s1, s3, a = make_variables('C1 S1 S3 A', 4)\n",
    "c2, s2, c3, s4, s5 = make_variables('C2 S2 C3 S4 S5', 2)\n",
    "eq1 = Equation('Send1', [c1], [s1], mappings.f_same)\n",
    "eq2 = Equation('Send2', [c2], [s2], mappings.f_same)\n",
    "eq3 = Equation('Rec1', [s2, s1], [s4], merge1)\n",
    "eq4 = Equation('Rec2', [c3], [s3], mappings.f_same)\n",
    "eq5 = Equation('Rec3', [s3, s4], [a], merge2)\n",
    "network = CausalNetwork([eq1, eq2, eq3, eq4, eq5])\n",
    "\n"
   ]
  },
  {
   "cell_type": "code",
   "execution_count": 5,
   "metadata": {
    "collapsed": false
   },
   "outputs": [
    {
     "data": {
      "image/png": "[encoded data removed]",
      "text/plain": [
       "<IPython.core.display.Image object>"
      ]
     },
     "execution_count": 5,
     "metadata": {},
     "output_type": "execute_result"
    }
   ],
   "source": [
    "draw(network.full_network)"
   ]
  },
  {
   "cell_type": "code",
   "execution_count": 6,
   "metadata": {
    "collapsed": false
   },
   "outputs": [],
   "source": [
    "from causalinfo.measure import Measure"
   ]
  },
  {
   "cell_type": "code",
   "execution_count": 26,
   "metadata": {
    "collapsed": false
   },
   "outputs": [],
   "source": [
    "root_dist = JointDist({c1: [.5, .2, .2, .1], c2: [.2, .8], c3: [.4, .6]})\n",
    "m = Measure(network, root_dist)"
   ]
  },
  {
   "cell_type": "code",
   "execution_count": 27,
   "metadata": {
    "collapsed": false
   },
   "outputs": [
    {
     "name": "stdout",
     "output_type": "stream",
     "text": [
      "0.360964047444\n",
      "0.360964047444\n"
     ]
    }
   ],
   "source": [
    "print m.causal_flow(s2, a, [s1, s3])\n",
    "print m.average_sad(s2, a)"
   ]
  },
  {
   "cell_type": "code",
   "execution_count": 28,
   "metadata": {
    "collapsed": false
   },
   "outputs": [
    {
     "name": "stdout",
     "output_type": "stream",
     "text": [
      "0.8\n",
      "0.8\n"
     ]
    }
   ],
   "source": [
    "print m.causal_flow(s1, a, [s2, s3])\n",
    "print m.average_sad(s1, a)"
   ]
  },
  {
   "cell_type": "code",
   "execution_count": 29,
   "metadata": {
    "collapsed": false
   },
   "outputs": [
    {
     "name": "stdout",
     "output_type": "stream",
     "text": [
      "0.970950594455\n",
      "0.970950594455\n",
      "0.970950594455\n"
     ]
    }
   ],
   "source": [
    "print m.average_sad(s3, a)\n",
    "print m.causal_flow(s3, a, s4)\n",
    "print m.causal_flow(s3, a, [s2, s1])"
   ]
  },
  {
   "cell_type": "code",
   "execution_count": null,
   "metadata": {
    "collapsed": true
   },
   "outputs": [],
   "source": []
  }
 ],
 "metadata": {
  "kernelspec": {
   "display_name": "Python 2",
   "language": "python",
   "name": "python2"
  },
  "language_info": {
   "codemirror_mode": {
    "name": "ipython",
    "version": 2
   },
   "file_extension": ".py",
   "mimetype": "text/x-python",
   "name": "python",
   "nbconvert_exporter": "python",
   "pygments_lexer": "ipython2",
   "version": "2.7.10"
  }
 },
 "nbformat": 4,
 "nbformat_minor": 0
}
